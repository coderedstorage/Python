{
 "cells": [
  {
   "attachments": {},
   "cell_type": "markdown",
   "metadata": {},
   "source": [
    "# Marketing AB Testing \n",
    "###### Source: https://www.kaggle.com/datasets/faviovaz/marketing-ab-testing \n",
    "###### Guideline for running AB testing in general https://www.kaggle.com/code/ekrembayar/a-b-testing-step-by-step-hypothesis-testing"
   ]
  },
  {
   "attachments": {},
   "cell_type": "markdown",
   "metadata": {},
   "source": [
    "## Import libraries"
   ]
  },
  {
   "cell_type": "code",
   "execution_count": 62,
   "metadata": {},
   "outputs": [],
   "source": [
    "import numpy as np\n",
    "import statistics as st\n",
    "import datetime as dt\n",
    "import pandas as pd\n",
    "from pandas.api.types import CategoricalDtype\n",
    "from itertools import combinations\n",
    "from collections import Counter\n",
    "from scipy import stats\n",
    "import matplotlib.pyplot as plt\n",
    "import matplotlib.pyplot as plt\n",
    "import matplotlib.colors as mcolors\n",
    "from matplotlib.font_manager import FontProperties\n",
    "from matplotlib.ticker import FuncFormatter\n",
    "import seaborn as sns\n",
    "from scipy.stats import ttest_ind"
   ]
  },
  {
   "attachments": {},
   "cell_type": "markdown",
   "metadata": {},
   "source": [
    "## Getting data ready"
   ]
  },
  {
   "attachments": {},
   "cell_type": "markdown",
   "metadata": {},
   "source": [
    "#### Import data"
   ]
  },
  {
   "cell_type": "code",
   "execution_count": 63,
   "metadata": {},
   "outputs": [],
   "source": [
    "df_mkt = pd.read_csv(r\"C:\\Users\\Master\\Documents\\data_analytics\\marketing_AB\\marketing_AB.csv\")"
   ]
  },
  {
   "attachments": {},
   "cell_type": "markdown",
   "metadata": {},
   "source": [
    "#### Rename columns"
   ]
  },
  {
   "cell_type": "code",
   "execution_count": 64,
   "metadata": {},
   "outputs": [],
   "source": [
    "df_mkt = df_mkt.rename(columns={\"user id\": 'user_id', \"test group\": 'test_group', \"total ads\" : 'total_ads', \"most ads day\": 'most_ads_day', \"most ads hour\" :  'most_ads_hour'})"
   ]
  },
  {
   "attachments": {},
   "cell_type": "markdown",
   "metadata": {},
   "source": [
    "#### Re-index by ascending values most_ads_hour column "
   ]
  },
  {
   "cell_type": "code",
   "execution_count": 65,
   "metadata": {},
   "outputs": [
    {
     "data": {
      "text/html": [
       "<div>\n",
       "<style scoped>\n",
       "    .dataframe tbody tr th:only-of-type {\n",
       "        vertical-align: middle;\n",
       "    }\n",
       "\n",
       "    .dataframe tbody tr th {\n",
       "        vertical-align: top;\n",
       "    }\n",
       "\n",
       "    .dataframe thead th {\n",
       "        text-align: right;\n",
       "    }\n",
       "</style>\n",
       "<table border=\"1\" class=\"dataframe\">\n",
       "  <thead>\n",
       "    <tr style=\"text-align: right;\">\n",
       "      <th></th>\n",
       "      <th>Unnamed: 0</th>\n",
       "      <th>user_id</th>\n",
       "      <th>test_group</th>\n",
       "      <th>converted</th>\n",
       "      <th>total_ads</th>\n",
       "      <th>most_ads_day</th>\n",
       "      <th>most_ads_hour</th>\n",
       "    </tr>\n",
       "  </thead>\n",
       "  <tbody>\n",
       "    <tr>\n",
       "      <th>0</th>\n",
       "      <td>490821</td>\n",
       "      <td>1460012</td>\n",
       "      <td>ad</td>\n",
       "      <td>False</td>\n",
       "      <td>2</td>\n",
       "      <td>Wednesday</td>\n",
       "      <td>0</td>\n",
       "    </tr>\n",
       "    <tr>\n",
       "      <th>1</th>\n",
       "      <td>14249</td>\n",
       "      <td>1007070</td>\n",
       "      <td>ad</td>\n",
       "      <td>False</td>\n",
       "      <td>26</td>\n",
       "      <td>Tuesday</td>\n",
       "      <td>0</td>\n",
       "    </tr>\n",
       "    <tr>\n",
       "      <th>2</th>\n",
       "      <td>107636</td>\n",
       "      <td>1345129</td>\n",
       "      <td>ad</td>\n",
       "      <td>True</td>\n",
       "      <td>16</td>\n",
       "      <td>Saturday</td>\n",
       "      <td>0</td>\n",
       "    </tr>\n",
       "    <tr>\n",
       "      <th>3</th>\n",
       "      <td>394212</td>\n",
       "      <td>1449048</td>\n",
       "      <td>ad</td>\n",
       "      <td>False</td>\n",
       "      <td>1</td>\n",
       "      <td>Sunday</td>\n",
       "      <td>0</td>\n",
       "    </tr>\n",
       "    <tr>\n",
       "      <th>4</th>\n",
       "      <td>14353</td>\n",
       "      <td>1016601</td>\n",
       "      <td>ad</td>\n",
       "      <td>False</td>\n",
       "      <td>39</td>\n",
       "      <td>Friday</td>\n",
       "      <td>0</td>\n",
       "    </tr>\n",
       "    <tr>\n",
       "      <th>5</th>\n",
       "      <td>70321</td>\n",
       "      <td>1309281</td>\n",
       "      <td>ad</td>\n",
       "      <td>False</td>\n",
       "      <td>40</td>\n",
       "      <td>Saturday</td>\n",
       "      <td>0</td>\n",
       "    </tr>\n",
       "    <tr>\n",
       "      <th>6</th>\n",
       "      <td>404871</td>\n",
       "      <td>1258456</td>\n",
       "      <td>ad</td>\n",
       "      <td>False</td>\n",
       "      <td>14</td>\n",
       "      <td>Wednesday</td>\n",
       "      <td>0</td>\n",
       "    </tr>\n",
       "    <tr>\n",
       "      <th>7</th>\n",
       "      <td>121976</td>\n",
       "      <td>1175574</td>\n",
       "      <td>ad</td>\n",
       "      <td>False</td>\n",
       "      <td>15</td>\n",
       "      <td>Sunday</td>\n",
       "      <td>0</td>\n",
       "    </tr>\n",
       "    <tr>\n",
       "      <th>8</th>\n",
       "      <td>534780</td>\n",
       "      <td>1127067</td>\n",
       "      <td>ad</td>\n",
       "      <td>False</td>\n",
       "      <td>6</td>\n",
       "      <td>Sunday</td>\n",
       "      <td>0</td>\n",
       "    </tr>\n",
       "    <tr>\n",
       "      <th>9</th>\n",
       "      <td>260418</td>\n",
       "      <td>1431776</td>\n",
       "      <td>ad</td>\n",
       "      <td>False</td>\n",
       "      <td>61</td>\n",
       "      <td>Sunday</td>\n",
       "      <td>0</td>\n",
       "    </tr>\n",
       "    <tr>\n",
       "      <th>10</th>\n",
       "      <td>394215</td>\n",
       "      <td>1141513</td>\n",
       "      <td>ad</td>\n",
       "      <td>False</td>\n",
       "      <td>12</td>\n",
       "      <td>Sunday</td>\n",
       "      <td>0</td>\n",
       "    </tr>\n",
       "    <tr>\n",
       "      <th>11</th>\n",
       "      <td>204437</td>\n",
       "      <td>1040056</td>\n",
       "      <td>ad</td>\n",
       "      <td>False</td>\n",
       "      <td>19</td>\n",
       "      <td>Friday</td>\n",
       "      <td>0</td>\n",
       "    </tr>\n",
       "    <tr>\n",
       "      <th>12</th>\n",
       "      <td>170424</td>\n",
       "      <td>1226943</td>\n",
       "      <td>ad</td>\n",
       "      <td>False</td>\n",
       "      <td>187</td>\n",
       "      <td>Wednesday</td>\n",
       "      <td>0</td>\n",
       "    </tr>\n",
       "    <tr>\n",
       "      <th>13</th>\n",
       "      <td>394216</td>\n",
       "      <td>1577185</td>\n",
       "      <td>ad</td>\n",
       "      <td>False</td>\n",
       "      <td>12</td>\n",
       "      <td>Sunday</td>\n",
       "      <td>0</td>\n",
       "    </tr>\n",
       "    <tr>\n",
       "      <th>14</th>\n",
       "      <td>345257</td>\n",
       "      <td>1283098</td>\n",
       "      <td>ad</td>\n",
       "      <td>False</td>\n",
       "      <td>2</td>\n",
       "      <td>Sunday</td>\n",
       "      <td>0</td>\n",
       "    </tr>\n",
       "    <tr>\n",
       "      <th>15</th>\n",
       "      <td>301122</td>\n",
       "      <td>1445277</td>\n",
       "      <td>ad</td>\n",
       "      <td>False</td>\n",
       "      <td>43</td>\n",
       "      <td>Thursday</td>\n",
       "      <td>0</td>\n",
       "    </tr>\n",
       "    <tr>\n",
       "      <th>16</th>\n",
       "      <td>14187</td>\n",
       "      <td>1073328</td>\n",
       "      <td>ad</td>\n",
       "      <td>False</td>\n",
       "      <td>32</td>\n",
       "      <td>Thursday</td>\n",
       "      <td>0</td>\n",
       "    </tr>\n",
       "    <tr>\n",
       "      <th>17</th>\n",
       "      <td>70233</td>\n",
       "      <td>1223187</td>\n",
       "      <td>ad</td>\n",
       "      <td>False</td>\n",
       "      <td>133</td>\n",
       "      <td>Monday</td>\n",
       "      <td>0</td>\n",
       "    </tr>\n",
       "    <tr>\n",
       "      <th>18</th>\n",
       "      <td>107687</td>\n",
       "      <td>1248783</td>\n",
       "      <td>ad</td>\n",
       "      <td>False</td>\n",
       "      <td>34</td>\n",
       "      <td>Saturday</td>\n",
       "      <td>0</td>\n",
       "    </tr>\n",
       "    <tr>\n",
       "      <th>19</th>\n",
       "      <td>300928</td>\n",
       "      <td>1028174</td>\n",
       "      <td>ad</td>\n",
       "      <td>False</td>\n",
       "      <td>4</td>\n",
       "      <td>Saturday</td>\n",
       "      <td>0</td>\n",
       "    </tr>\n",
       "  </tbody>\n",
       "</table>\n",
       "</div>"
      ],
      "text/plain": [
       "    Unnamed: 0  user_id test_group  converted  total_ads most_ads_day  \\\n",
       "0       490821  1460012         ad      False          2    Wednesday   \n",
       "1        14249  1007070         ad      False         26      Tuesday   \n",
       "2       107636  1345129         ad       True         16     Saturday   \n",
       "3       394212  1449048         ad      False          1       Sunday   \n",
       "4        14353  1016601         ad      False         39       Friday   \n",
       "5        70321  1309281         ad      False         40     Saturday   \n",
       "6       404871  1258456         ad      False         14    Wednesday   \n",
       "7       121976  1175574         ad      False         15       Sunday   \n",
       "8       534780  1127067         ad      False          6       Sunday   \n",
       "9       260418  1431776         ad      False         61       Sunday   \n",
       "10      394215  1141513         ad      False         12       Sunday   \n",
       "11      204437  1040056         ad      False         19       Friday   \n",
       "12      170424  1226943         ad      False        187    Wednesday   \n",
       "13      394216  1577185         ad      False         12       Sunday   \n",
       "14      345257  1283098         ad      False          2       Sunday   \n",
       "15      301122  1445277         ad      False         43     Thursday   \n",
       "16       14187  1073328         ad      False         32     Thursday   \n",
       "17       70233  1223187         ad      False        133       Monday   \n",
       "18      107687  1248783         ad      False         34     Saturday   \n",
       "19      300928  1028174         ad      False          4     Saturday   \n",
       "\n",
       "    most_ads_hour  \n",
       "0               0  \n",
       "1               0  \n",
       "2               0  \n",
       "3               0  \n",
       "4               0  \n",
       "5               0  \n",
       "6               0  \n",
       "7               0  \n",
       "8               0  \n",
       "9               0  \n",
       "10              0  \n",
       "11              0  \n",
       "12              0  \n",
       "13              0  \n",
       "14              0  \n",
       "15              0  \n",
       "16              0  \n",
       "17              0  \n",
       "18              0  \n",
       "19              0  "
      ]
     },
     "execution_count": 65,
     "metadata": {},
     "output_type": "execute_result"
    }
   ],
   "source": [
    "df_mkt= df_mkt.sort_values(by='most_ads_hour', ascending=True).reset_index(drop=True)\n",
    "df_mkt.head(20)"
   ]
  },
  {
   "attachments": {},
   "cell_type": "markdown",
   "metadata": {},
   "source": [
    "#### Mapping fields using library of 'day' vs 'wk_day_num'"
   ]
  },
  {
   "cell_type": "code",
   "execution_count": 66,
   "metadata": {},
   "outputs": [
    {
     "data": {
      "text/html": [
       "<div>\n",
       "<style scoped>\n",
       "    .dataframe tbody tr th:only-of-type {\n",
       "        vertical-align: middle;\n",
       "    }\n",
       "\n",
       "    .dataframe tbody tr th {\n",
       "        vertical-align: top;\n",
       "    }\n",
       "\n",
       "    .dataframe thead th {\n",
       "        text-align: right;\n",
       "    }\n",
       "</style>\n",
       "<table border=\"1\" class=\"dataframe\">\n",
       "  <thead>\n",
       "    <tr style=\"text-align: right;\">\n",
       "      <th></th>\n",
       "      <th>day</th>\n",
       "      <th>week_day_number</th>\n",
       "      <th>most_ads_day</th>\n",
       "    </tr>\n",
       "  </thead>\n",
       "  <tbody>\n",
       "    <tr>\n",
       "      <th>0</th>\n",
       "      <td>Monday</td>\n",
       "      <td>0</td>\n",
       "      <td>Monday</td>\n",
       "    </tr>\n",
       "    <tr>\n",
       "      <th>1</th>\n",
       "      <td>Tuesday</td>\n",
       "      <td>1</td>\n",
       "      <td>Tuesday</td>\n",
       "    </tr>\n",
       "    <tr>\n",
       "      <th>2</th>\n",
       "      <td>Wednesday</td>\n",
       "      <td>2</td>\n",
       "      <td>Wednesday</td>\n",
       "    </tr>\n",
       "    <tr>\n",
       "      <th>3</th>\n",
       "      <td>Thursday</td>\n",
       "      <td>3</td>\n",
       "      <td>Thursday</td>\n",
       "    </tr>\n",
       "    <tr>\n",
       "      <th>4</th>\n",
       "      <td>Friday</td>\n",
       "      <td>4</td>\n",
       "      <td>Friday</td>\n",
       "    </tr>\n",
       "  </tbody>\n",
       "</table>\n",
       "</div>"
      ],
      "text/plain": [
       "         day  week_day_number most_ads_day\n",
       "0     Monday                0       Monday\n",
       "1    Tuesday                1      Tuesday\n",
       "2  Wednesday                2    Wednesday\n",
       "3   Thursday                3     Thursday\n",
       "4     Friday                4       Friday"
      ]
     },
     "execution_count": 66,
     "metadata": {},
     "output_type": "execute_result"
    }
   ],
   "source": [
    "df_day = pd.DataFrame({'day': ['Monday', 'Tuesday', 'Wednesday', 'Thursday', 'Friday', 'Saturday', 'Sunday']}) # this way has column name\n",
    "wk_day_num = {'Monday': 0, 'Tuesday': 1, 'Wednesday': 2, 'Thursday': 3, 'Friday': 4, 'Saturday': 5, 'Sunday': 6}\n",
    "df_day['week_day_number'] = df_day['day'].map(wk_day_num)\n",
    "df_day['most_ads_day'] = df_day['day']\n",
    "df_day.head()"
   ]
  },
  {
   "attachments": {},
   "cell_type": "markdown",
   "metadata": {},
   "source": [
    "#### Add week_day_number to df_mkt"
   ]
  },
  {
   "cell_type": "code",
   "execution_count": 67,
   "metadata": {},
   "outputs": [],
   "source": [
    "\n",
    "df_mkt = pd.merge(df_mkt, df_day[['day', 'week_day_number', 'most_ads_day']], on=['most_ads_day'], how='left')"
   ]
  },
  {
   "attachments": {},
   "cell_type": "markdown",
   "metadata": {},
   "source": [
    "#### Drop excess or useless columns"
   ]
  },
  {
   "cell_type": "code",
   "execution_count": 68,
   "metadata": {},
   "outputs": [
    {
     "data": {
      "text/html": [
       "<div>\n",
       "<style scoped>\n",
       "    .dataframe tbody tr th:only-of-type {\n",
       "        vertical-align: middle;\n",
       "    }\n",
       "\n",
       "    .dataframe tbody tr th {\n",
       "        vertical-align: top;\n",
       "    }\n",
       "\n",
       "    .dataframe thead th {\n",
       "        text-align: right;\n",
       "    }\n",
       "</style>\n",
       "<table border=\"1\" class=\"dataframe\">\n",
       "  <thead>\n",
       "    <tr style=\"text-align: right;\">\n",
       "      <th></th>\n",
       "      <th>user_id</th>\n",
       "      <th>test_group</th>\n",
       "      <th>converted</th>\n",
       "      <th>total_ads</th>\n",
       "      <th>most_ads_day</th>\n",
       "      <th>most_ads_hour</th>\n",
       "      <th>week_day_number</th>\n",
       "    </tr>\n",
       "  </thead>\n",
       "  <tbody>\n",
       "    <tr>\n",
       "      <th>0</th>\n",
       "      <td>1460012</td>\n",
       "      <td>ad</td>\n",
       "      <td>False</td>\n",
       "      <td>2</td>\n",
       "      <td>Wednesday</td>\n",
       "      <td>0</td>\n",
       "      <td>2</td>\n",
       "    </tr>\n",
       "    <tr>\n",
       "      <th>1</th>\n",
       "      <td>1007070</td>\n",
       "      <td>ad</td>\n",
       "      <td>False</td>\n",
       "      <td>26</td>\n",
       "      <td>Tuesday</td>\n",
       "      <td>0</td>\n",
       "      <td>1</td>\n",
       "    </tr>\n",
       "    <tr>\n",
       "      <th>2</th>\n",
       "      <td>1345129</td>\n",
       "      <td>ad</td>\n",
       "      <td>True</td>\n",
       "      <td>16</td>\n",
       "      <td>Saturday</td>\n",
       "      <td>0</td>\n",
       "      <td>5</td>\n",
       "    </tr>\n",
       "    <tr>\n",
       "      <th>3</th>\n",
       "      <td>1449048</td>\n",
       "      <td>ad</td>\n",
       "      <td>False</td>\n",
       "      <td>1</td>\n",
       "      <td>Sunday</td>\n",
       "      <td>0</td>\n",
       "      <td>6</td>\n",
       "    </tr>\n",
       "    <tr>\n",
       "      <th>4</th>\n",
       "      <td>1016601</td>\n",
       "      <td>ad</td>\n",
       "      <td>False</td>\n",
       "      <td>39</td>\n",
       "      <td>Friday</td>\n",
       "      <td>0</td>\n",
       "      <td>4</td>\n",
       "    </tr>\n",
       "  </tbody>\n",
       "</table>\n",
       "</div>"
      ],
      "text/plain": [
       "   user_id test_group  converted  total_ads most_ads_day  most_ads_hour  \\\n",
       "0  1460012         ad      False          2    Wednesday              0   \n",
       "1  1007070         ad      False         26      Tuesday              0   \n",
       "2  1345129         ad       True         16     Saturday              0   \n",
       "3  1449048         ad      False          1       Sunday              0   \n",
       "4  1016601         ad      False         39       Friday              0   \n",
       "\n",
       "   week_day_number  \n",
       "0                2  \n",
       "1                1  \n",
       "2                5  \n",
       "3                6  \n",
       "4                4  "
      ]
     },
     "execution_count": 68,
     "metadata": {},
     "output_type": "execute_result"
    }
   ],
   "source": [
    "df_mkt = df_mkt.drop(columns=[\"Unnamed: 0\", 'day'], axis=1)\n",
    "df_mkt.head()"
   ]
  },
  {
   "attachments": {},
   "cell_type": "markdown",
   "metadata": {},
   "source": [
    "#### Use where statement to convert False to 0 and True to 1 in col converted"
   ]
  },
  {
   "cell_type": "code",
   "execution_count": 69,
   "metadata": {},
   "outputs": [
    {
     "data": {
      "text/html": [
       "<div>\n",
       "<style scoped>\n",
       "    .dataframe tbody tr th:only-of-type {\n",
       "        vertical-align: middle;\n",
       "    }\n",
       "\n",
       "    .dataframe tbody tr th {\n",
       "        vertical-align: top;\n",
       "    }\n",
       "\n",
       "    .dataframe thead th {\n",
       "        text-align: right;\n",
       "    }\n",
       "</style>\n",
       "<table border=\"1\" class=\"dataframe\">\n",
       "  <thead>\n",
       "    <tr style=\"text-align: right;\">\n",
       "      <th></th>\n",
       "      <th>user_id</th>\n",
       "      <th>test_group</th>\n",
       "      <th>converted</th>\n",
       "      <th>total_ads</th>\n",
       "      <th>most_ads_day</th>\n",
       "      <th>most_ads_hour</th>\n",
       "      <th>week_day_number</th>\n",
       "    </tr>\n",
       "  </thead>\n",
       "  <tbody>\n",
       "    <tr>\n",
       "      <th>0</th>\n",
       "      <td>1460012</td>\n",
       "      <td>ad</td>\n",
       "      <td>0</td>\n",
       "      <td>2</td>\n",
       "      <td>Wednesday</td>\n",
       "      <td>0</td>\n",
       "      <td>2</td>\n",
       "    </tr>\n",
       "    <tr>\n",
       "      <th>1</th>\n",
       "      <td>1007070</td>\n",
       "      <td>ad</td>\n",
       "      <td>0</td>\n",
       "      <td>26</td>\n",
       "      <td>Tuesday</td>\n",
       "      <td>0</td>\n",
       "      <td>1</td>\n",
       "    </tr>\n",
       "    <tr>\n",
       "      <th>2</th>\n",
       "      <td>1345129</td>\n",
       "      <td>ad</td>\n",
       "      <td>1</td>\n",
       "      <td>16</td>\n",
       "      <td>Saturday</td>\n",
       "      <td>0</td>\n",
       "      <td>5</td>\n",
       "    </tr>\n",
       "    <tr>\n",
       "      <th>3</th>\n",
       "      <td>1449048</td>\n",
       "      <td>ad</td>\n",
       "      <td>0</td>\n",
       "      <td>1</td>\n",
       "      <td>Sunday</td>\n",
       "      <td>0</td>\n",
       "      <td>6</td>\n",
       "    </tr>\n",
       "    <tr>\n",
       "      <th>4</th>\n",
       "      <td>1016601</td>\n",
       "      <td>ad</td>\n",
       "      <td>0</td>\n",
       "      <td>39</td>\n",
       "      <td>Friday</td>\n",
       "      <td>0</td>\n",
       "      <td>4</td>\n",
       "    </tr>\n",
       "  </tbody>\n",
       "</table>\n",
       "</div>"
      ],
      "text/plain": [
       "   user_id test_group  converted  total_ads most_ads_day  most_ads_hour  \\\n",
       "0  1460012         ad          0          2    Wednesday              0   \n",
       "1  1007070         ad          0         26      Tuesday              0   \n",
       "2  1345129         ad          1         16     Saturday              0   \n",
       "3  1449048         ad          0          1       Sunday              0   \n",
       "4  1016601         ad          0         39       Friday              0   \n",
       "\n",
       "   week_day_number  \n",
       "0                2  \n",
       "1                1  \n",
       "2                5  \n",
       "3                6  \n",
       "4                4  "
      ]
     },
     "execution_count": 69,
     "metadata": {},
     "output_type": "execute_result"
    }
   ],
   "source": [
    "df_mkt['converted']=np.where(df_mkt['converted']==False, 0, 1)\n",
    "df_mkt.head()"
   ]
  },
  {
   "cell_type": "code",
   "execution_count": 118,
   "metadata": {},
   "outputs": [
    {
     "data": {
      "text/html": [
       "<div>\n",
       "<style scoped>\n",
       "    .dataframe tbody tr th:only-of-type {\n",
       "        vertical-align: middle;\n",
       "    }\n",
       "\n",
       "    .dataframe tbody tr th {\n",
       "        vertical-align: top;\n",
       "    }\n",
       "\n",
       "    .dataframe thead th {\n",
       "        text-align: right;\n",
       "    }\n",
       "</style>\n",
       "<table border=\"1\" class=\"dataframe\">\n",
       "  <thead>\n",
       "    <tr style=\"text-align: right;\">\n",
       "      <th></th>\n",
       "      <th>user_id</th>\n",
       "      <th>test_group</th>\n",
       "      <th>converted</th>\n",
       "      <th>total_ads</th>\n",
       "      <th>most_ads_day</th>\n",
       "      <th>most_ads_hour</th>\n",
       "      <th>week_day_number</th>\n",
       "      <th>most_ads_hour_hr</th>\n",
       "      <th>time_block</th>\n",
       "    </tr>\n",
       "  </thead>\n",
       "  <tbody>\n",
       "    <tr>\n",
       "      <th>0</th>\n",
       "      <td>1460012</td>\n",
       "      <td>ad</td>\n",
       "      <td>0</td>\n",
       "      <td>2</td>\n",
       "      <td>Wednesday</td>\n",
       "      <td>0</td>\n",
       "      <td>2</td>\n",
       "      <td>12AM</td>\n",
       "      <td>0200: Wednesday 00hr</td>\n",
       "    </tr>\n",
       "    <tr>\n",
       "      <th>1</th>\n",
       "      <td>1007070</td>\n",
       "      <td>ad</td>\n",
       "      <td>0</td>\n",
       "      <td>26</td>\n",
       "      <td>Tuesday</td>\n",
       "      <td>0</td>\n",
       "      <td>1</td>\n",
       "      <td>12AM</td>\n",
       "      <td>0100: Tuesday 00hr</td>\n",
       "    </tr>\n",
       "    <tr>\n",
       "      <th>2</th>\n",
       "      <td>1345129</td>\n",
       "      <td>ad</td>\n",
       "      <td>1</td>\n",
       "      <td>16</td>\n",
       "      <td>Saturday</td>\n",
       "      <td>0</td>\n",
       "      <td>5</td>\n",
       "      <td>12AM</td>\n",
       "      <td>0500: Saturday 00hr</td>\n",
       "    </tr>\n",
       "    <tr>\n",
       "      <th>3</th>\n",
       "      <td>1449048</td>\n",
       "      <td>ad</td>\n",
       "      <td>0</td>\n",
       "      <td>1</td>\n",
       "      <td>Sunday</td>\n",
       "      <td>0</td>\n",
       "      <td>6</td>\n",
       "      <td>12AM</td>\n",
       "      <td>0600: Sunday 00hr</td>\n",
       "    </tr>\n",
       "    <tr>\n",
       "      <th>4</th>\n",
       "      <td>1016601</td>\n",
       "      <td>ad</td>\n",
       "      <td>0</td>\n",
       "      <td>39</td>\n",
       "      <td>Friday</td>\n",
       "      <td>0</td>\n",
       "      <td>4</td>\n",
       "      <td>12AM</td>\n",
       "      <td>0400: Friday 00hr</td>\n",
       "    </tr>\n",
       "  </tbody>\n",
       "</table>\n",
       "</div>"
      ],
      "text/plain": [
       "   user_id test_group  converted  total_ads most_ads_day  most_ads_hour  \\\n",
       "0  1460012         ad          0          2    Wednesday              0   \n",
       "1  1007070         ad          0         26      Tuesday              0   \n",
       "2  1345129         ad          1         16     Saturday              0   \n",
       "3  1449048         ad          0          1       Sunday              0   \n",
       "4  1016601         ad          0         39       Friday              0   \n",
       "\n",
       "   week_day_number most_ads_hour_hr            time_block  \n",
       "0                2             12AM  0200: Wednesday 00hr  \n",
       "1                1             12AM    0100: Tuesday 00hr  \n",
       "2                5             12AM   0500: Saturday 00hr  \n",
       "3                6             12AM     0600: Sunday 00hr  \n",
       "4                4             12AM     0400: Friday 00hr  "
      ]
     },
     "execution_count": 118,
     "metadata": {},
     "output_type": "execute_result"
    }
   ],
   "source": [
    "df_mkt['most_ads_hour_hr'] = df_mkt['most_ads_hour'].apply(lambda x: f'{x if 1 <= x <= 12 else (12 if x == 0 else x-12)}{\"AM\" if x < 12 else \"PM\"}')\n",
    "df_mkt.head()"
   ]
  },
  {
   "attachments": {},
   "cell_type": "markdown",
   "metadata": {},
   "source": [
    "## My solution"
   ]
  },
  {
   "attachments": {},
   "cell_type": "markdown",
   "metadata": {},
   "source": [
    "#### Create time blocks"
   ]
  },
  {
   "cell_type": "code",
   "execution_count": 71,
   "metadata": {},
   "outputs": [
    {
     "data": {
      "text/html": [
       "<div>\n",
       "<style scoped>\n",
       "    .dataframe tbody tr th:only-of-type {\n",
       "        vertical-align: middle;\n",
       "    }\n",
       "\n",
       "    .dataframe tbody tr th {\n",
       "        vertical-align: top;\n",
       "    }\n",
       "\n",
       "    .dataframe thead th {\n",
       "        text-align: right;\n",
       "    }\n",
       "</style>\n",
       "<table border=\"1\" class=\"dataframe\">\n",
       "  <thead>\n",
       "    <tr style=\"text-align: right;\">\n",
       "      <th></th>\n",
       "      <th>user_id</th>\n",
       "      <th>test_group</th>\n",
       "      <th>converted</th>\n",
       "      <th>total_ads</th>\n",
       "      <th>most_ads_day</th>\n",
       "      <th>most_ads_hour</th>\n",
       "      <th>week_day_number</th>\n",
       "      <th>most_ads_hour_hr</th>\n",
       "      <th>time_block</th>\n",
       "    </tr>\n",
       "  </thead>\n",
       "  <tbody>\n",
       "    <tr>\n",
       "      <th>0</th>\n",
       "      <td>1460012</td>\n",
       "      <td>ad</td>\n",
       "      <td>0</td>\n",
       "      <td>2</td>\n",
       "      <td>Wednesday</td>\n",
       "      <td>0</td>\n",
       "      <td>2</td>\n",
       "      <td>12 AM</td>\n",
       "      <td>0200: Wednesday 00hr</td>\n",
       "    </tr>\n",
       "    <tr>\n",
       "      <th>1</th>\n",
       "      <td>1007070</td>\n",
       "      <td>ad</td>\n",
       "      <td>0</td>\n",
       "      <td>26</td>\n",
       "      <td>Tuesday</td>\n",
       "      <td>0</td>\n",
       "      <td>1</td>\n",
       "      <td>12 AM</td>\n",
       "      <td>0100: Tuesday 00hr</td>\n",
       "    </tr>\n",
       "    <tr>\n",
       "      <th>2</th>\n",
       "      <td>1345129</td>\n",
       "      <td>ad</td>\n",
       "      <td>1</td>\n",
       "      <td>16</td>\n",
       "      <td>Saturday</td>\n",
       "      <td>0</td>\n",
       "      <td>5</td>\n",
       "      <td>12 AM</td>\n",
       "      <td>0500: Saturday 00hr</td>\n",
       "    </tr>\n",
       "    <tr>\n",
       "      <th>3</th>\n",
       "      <td>1449048</td>\n",
       "      <td>ad</td>\n",
       "      <td>0</td>\n",
       "      <td>1</td>\n",
       "      <td>Sunday</td>\n",
       "      <td>0</td>\n",
       "      <td>6</td>\n",
       "      <td>12 AM</td>\n",
       "      <td>0600: Sunday 00hr</td>\n",
       "    </tr>\n",
       "    <tr>\n",
       "      <th>4</th>\n",
       "      <td>1016601</td>\n",
       "      <td>ad</td>\n",
       "      <td>0</td>\n",
       "      <td>39</td>\n",
       "      <td>Friday</td>\n",
       "      <td>0</td>\n",
       "      <td>4</td>\n",
       "      <td>12 AM</td>\n",
       "      <td>0400: Friday 00hr</td>\n",
       "    </tr>\n",
       "  </tbody>\n",
       "</table>\n",
       "</div>"
      ],
      "text/plain": [
       "   user_id test_group  converted  total_ads most_ads_day  most_ads_hour  \\\n",
       "0  1460012         ad          0          2    Wednesday              0   \n",
       "1  1007070         ad          0         26      Tuesday              0   \n",
       "2  1345129         ad          1         16     Saturday              0   \n",
       "3  1449048         ad          0          1       Sunday              0   \n",
       "4  1016601         ad          0         39       Friday              0   \n",
       "\n",
       "   week_day_number most_ads_hour_hr            time_block  \n",
       "0                2            12 AM  0200: Wednesday 00hr  \n",
       "1                1            12 AM    0100: Tuesday 00hr  \n",
       "2                5            12 AM   0500: Saturday 00hr  \n",
       "3                6            12 AM     0600: Sunday 00hr  \n",
       "4                4            12 AM     0400: Friday 00hr  "
      ]
     },
     "execution_count": 71,
     "metadata": {},
     "output_type": "execute_result"
    }
   ],
   "source": [
    "df_mkt['time_block'] = (df_mkt['week_day_number'].astype(str).str.zfill(2) +\n",
    "                        df_mkt['most_ads_hour'].astype(str).str.zfill(2) +\n",
    "                        ': ' + df_mkt['most_ads_day'].astype(str) +\n",
    "                        ' ' + df_mkt['most_ads_hour'].astype(str).str.zfill(2) + 'hr')\n",
    "df_mkt.head()"
   ]
  },
  {
   "attachments": {},
   "cell_type": "markdown",
   "metadata": {},
   "source": [
    "#### Calculate average converstion rates between the groups"
   ]
  },
  {
   "cell_type": "code",
   "execution_count": 72,
   "metadata": {},
   "outputs": [
    {
     "name": "stdout",
     "output_type": "stream",
     "text": [
      "test_group\n",
      "ad     0.025547\n",
      "psa    0.017854\n",
      "Name: converted, dtype: float64\n"
     ]
    }
   ],
   "source": [
    "df_set = df_mkt.groupby('test_group')['converted'].mean()\n",
    "print(df_set)"
   ]
  },
  {
   "cell_type": "code",
   "execution_count": 73,
   "metadata": {},
   "outputs": [
    {
     "data": {
      "text/html": [
       "<div>\n",
       "<style scoped>\n",
       "    .dataframe tbody tr th:only-of-type {\n",
       "        vertical-align: middle;\n",
       "    }\n",
       "\n",
       "    .dataframe tbody tr th {\n",
       "        vertical-align: top;\n",
       "    }\n",
       "\n",
       "    .dataframe thead th {\n",
       "        text-align: right;\n",
       "    }\n",
       "</style>\n",
       "<table border=\"1\" class=\"dataframe\">\n",
       "  <thead>\n",
       "    <tr style=\"text-align: right;\">\n",
       "      <th></th>\n",
       "      <th>week_day_number</th>\n",
       "      <th>most_ads_hour</th>\n",
       "      <th>control_conversions</th>\n",
       "    </tr>\n",
       "  </thead>\n",
       "  <tbody>\n",
       "    <tr>\n",
       "      <th>0</th>\n",
       "      <td>0</td>\n",
       "      <td>0</td>\n",
       "      <td>0.0</td>\n",
       "    </tr>\n",
       "    <tr>\n",
       "      <th>1</th>\n",
       "      <td>0</td>\n",
       "      <td>100</td>\n",
       "      <td>0.0</td>\n",
       "    </tr>\n",
       "    <tr>\n",
       "      <th>2</th>\n",
       "      <td>0</td>\n",
       "      <td>200</td>\n",
       "      <td>0.0</td>\n",
       "    </tr>\n",
       "    <tr>\n",
       "      <th>3</th>\n",
       "      <td>0</td>\n",
       "      <td>300</td>\n",
       "      <td>0.0</td>\n",
       "    </tr>\n",
       "    <tr>\n",
       "      <th>4</th>\n",
       "      <td>0</td>\n",
       "      <td>400</td>\n",
       "      <td>0.0</td>\n",
       "    </tr>\n",
       "  </tbody>\n",
       "</table>\n",
       "</div>"
      ],
      "text/plain": [
       "   week_day_number  most_ads_hour  control_conversions\n",
       "0                0              0                  0.0\n",
       "1                0            100                  0.0\n",
       "2                0            200                  0.0\n",
       "3                0            300                  0.0\n",
       "4                0            400                  0.0"
      ]
     },
     "execution_count": 73,
     "metadata": {},
     "output_type": "execute_result"
    }
   ],
   "source": [
    "df_c = df_mkt[df_mkt['test_group'] == 'psa']\n",
    "df_c = df_c.groupby(['week_day_number','most_ads_hour'])['converted'].mean().reset_index()*100\n",
    "df_c = df_c.rename(columns={'converted': 'control_conversions'})\n",
    "df_c.head()\n"
   ]
  },
  {
   "cell_type": "code",
   "execution_count": 74,
   "metadata": {},
   "outputs": [
    {
     "data": {
      "text/html": [
       "<div>\n",
       "<style scoped>\n",
       "    .dataframe tbody tr th:only-of-type {\n",
       "        vertical-align: middle;\n",
       "    }\n",
       "\n",
       "    .dataframe tbody tr th {\n",
       "        vertical-align: top;\n",
       "    }\n",
       "\n",
       "    .dataframe thead th {\n",
       "        text-align: right;\n",
       "    }\n",
       "</style>\n",
       "<table border=\"1\" class=\"dataframe\">\n",
       "  <thead>\n",
       "    <tr style=\"text-align: right;\">\n",
       "      <th></th>\n",
       "      <th>week_day_number</th>\n",
       "      <th>most_ads_hour</th>\n",
       "      <th>treatment_conversions</th>\n",
       "    </tr>\n",
       "  </thead>\n",
       "  <tbody>\n",
       "    <tr>\n",
       "      <th>0</th>\n",
       "      <td>0</td>\n",
       "      <td>0</td>\n",
       "      <td>1.707317</td>\n",
       "    </tr>\n",
       "    <tr>\n",
       "      <th>1</th>\n",
       "      <td>0</td>\n",
       "      <td>100</td>\n",
       "      <td>1.694915</td>\n",
       "    </tr>\n",
       "    <tr>\n",
       "      <th>2</th>\n",
       "      <td>0</td>\n",
       "      <td>200</td>\n",
       "      <td>0.705219</td>\n",
       "    </tr>\n",
       "    <tr>\n",
       "      <th>3</th>\n",
       "      <td>0</td>\n",
       "      <td>300</td>\n",
       "      <td>1.265823</td>\n",
       "    </tr>\n",
       "    <tr>\n",
       "      <th>4</th>\n",
       "      <td>0</td>\n",
       "      <td>400</td>\n",
       "      <td>0.000000</td>\n",
       "    </tr>\n",
       "  </tbody>\n",
       "</table>\n",
       "</div>"
      ],
      "text/plain": [
       "   week_day_number  most_ads_hour  treatment_conversions\n",
       "0                0              0               1.707317\n",
       "1                0            100               1.694915\n",
       "2                0            200               0.705219\n",
       "3                0            300               1.265823\n",
       "4                0            400               0.000000"
      ]
     },
     "execution_count": 74,
     "metadata": {},
     "output_type": "execute_result"
    }
   ],
   "source": [
    "df_t = df_mkt[df_mkt['test_group'] == 'ad']\n",
    "df_t = df_t.groupby(['week_day_number','most_ads_hour'])['converted'].mean().reset_index()*100\n",
    "df_t = df_t.rename(columns={'converted': 'treatment_conversions'})\n",
    "df_t.head()\n"
   ]
  },
  {
   "cell_type": "code",
   "execution_count": 75,
   "metadata": {},
   "outputs": [
    {
     "name": "stdout",
     "output_type": "stream",
     "text": [
      "1.3287390913063772\n",
      "2.284667393948973\n"
     ]
    }
   ],
   "source": [
    "print(np.mean(df_c['control_conversions']))\n",
    "print(np.mean(df_t['treatment_conversions']))"
   ]
  },
  {
   "attachments": {},
   "cell_type": "markdown",
   "metadata": {},
   "source": [
    "### Create AB testing set"
   ]
  },
  {
   "cell_type": "code",
   "execution_count": 76,
   "metadata": {},
   "outputs": [
    {
     "data": {
      "text/html": [
       "<div>\n",
       "<style scoped>\n",
       "    .dataframe tbody tr th:only-of-type {\n",
       "        vertical-align: middle;\n",
       "    }\n",
       "\n",
       "    .dataframe tbody tr th {\n",
       "        vertical-align: top;\n",
       "    }\n",
       "\n",
       "    .dataframe thead th {\n",
       "        text-align: right;\n",
       "    }\n",
       "</style>\n",
       "<table border=\"1\" class=\"dataframe\">\n",
       "  <thead>\n",
       "    <tr style=\"text-align: right;\">\n",
       "      <th></th>\n",
       "      <th>week_day_number</th>\n",
       "      <th>most_ads_hour</th>\n",
       "      <th>control_conversions</th>\n",
       "      <th>treatment_conversions</th>\n",
       "    </tr>\n",
       "  </thead>\n",
       "  <tbody>\n",
       "    <tr>\n",
       "      <th>0</th>\n",
       "      <td>0</td>\n",
       "      <td>0</td>\n",
       "      <td>0.0</td>\n",
       "      <td>1.707317</td>\n",
       "    </tr>\n",
       "    <tr>\n",
       "      <th>1</th>\n",
       "      <td>0</td>\n",
       "      <td>100</td>\n",
       "      <td>0.0</td>\n",
       "      <td>1.694915</td>\n",
       "    </tr>\n",
       "    <tr>\n",
       "      <th>2</th>\n",
       "      <td>0</td>\n",
       "      <td>200</td>\n",
       "      <td>0.0</td>\n",
       "      <td>0.705219</td>\n",
       "    </tr>\n",
       "    <tr>\n",
       "      <th>3</th>\n",
       "      <td>0</td>\n",
       "      <td>300</td>\n",
       "      <td>0.0</td>\n",
       "      <td>1.265823</td>\n",
       "    </tr>\n",
       "    <tr>\n",
       "      <th>4</th>\n",
       "      <td>0</td>\n",
       "      <td>400</td>\n",
       "      <td>0.0</td>\n",
       "      <td>0.000000</td>\n",
       "    </tr>\n",
       "  </tbody>\n",
       "</table>\n",
       "</div>"
      ],
      "text/plain": [
       "   week_day_number  most_ads_hour  control_conversions  treatment_conversions\n",
       "0                0              0                  0.0               1.707317\n",
       "1                0            100                  0.0               1.694915\n",
       "2                0            200                  0.0               0.705219\n",
       "3                0            300                  0.0               1.265823\n",
       "4                0            400                  0.0               0.000000"
      ]
     },
     "execution_count": 76,
     "metadata": {},
     "output_type": "execute_result"
    }
   ],
   "source": [
    "df_abset = pd.merge(df_c, df_t[['week_day_number','most_ads_hour','treatment_conversions']], on=['week_day_number','most_ads_hour'], how='inner')\n",
    "df_abset.head()"
   ]
  },
  {
   "attachments": {},
   "cell_type": "markdown",
   "metadata": {},
   "source": [
    "### A/B testing generic\n",
    "#### This script calculates the p-value for the Z-score and compares it to the alpha value. If the p-value is less than alpha, we reject the null hypothesis; otherwise, we fail to reject it. You can customize the alpha and number_of_tails parameters to change the confidence level and whether to use a one-tailed or two-tailed test."
   ]
  },
  {
   "cell_type": "code",
   "execution_count": 77,
   "metadata": {},
   "outputs": [],
   "source": [
    "def ab_test(control, treatment, alpha, number_of_tails):\n",
    "    \n",
    "    control_mean = np.mean(control)\n",
    "    control_std = np.std(control)\n",
    "    control_z = (control - np.mean(control)) / np.std(control)\n",
    "    control_size = len(control)\n",
    "\n",
    "\n",
    "    treatment_mean = np.mean(treatment)\n",
    "    treatment_std = np.std(treatment)\n",
    "    treatment_size = len(treatment)\n",
    "    treatment_z = (treatment - np.mean(treatment)) / np.std(treatment)\n",
    "    \n",
    "    pooled_var = (np.var(control) + np.var(treatment)) / 2\n",
    "    pooled_se = np.sqrt(pooled_var * (1 / control_size + 1 / treatment_size))\n",
    "    z_score = (treatment_mean - control_mean) / pooled_se\n",
    "    p_value = stats.norm.sf(abs(z_score))\n",
    "    \n",
    "    x_axis_ann_gap = 0.5\n",
    "    x = np.linspace(min(control + treatment), max(control + treatment), 1000)\n",
    "    control_pdf = stats.norm.pdf(x, control_mean, control_std)\n",
    "    treatment_pdf = stats.norm.pdf(x, treatment_mean, treatment_std)\n",
    "\n",
    "    \n",
    "    if number_of_tails == 2:\n",
    "        p_value *= 2\n",
    "        critical_value_z = stats.norm.ppf(1 - alpha / 2)\n",
    "        cv_control = critical_value_z * control_std + control_mean\n",
    "        cv_treatment = critical_value_z * treatment_std + treatment_mean\n",
    "        plt.axvline(x=cv_control, color='grey', linestyle='--')\n",
    "        plt.axvline(x=-cv_control, color='grey', linestyle='--')\n",
    "        plt.text(cv_control + x_axis_ann_gap, max(control_pdf) * .75, f\"{cv_control:.1f}\", va='center', ha=\"left\", bbox=dict(facecolor=\"w\",alpha=0.2, edgecolor= 'None'))\n",
    "        plt.text(-cv_control + x_axis_ann_gap, 0, f\"{-cv_control:.1f}\", va='center', ha=\"left\", bbox=dict(facecolor=\"w\",alpha=0.2, edgecolor= 'None'))\n",
    "    else:\n",
    "        critical_value_z = stats.norm.ppf(1 - alpha)\n",
    "        cv_control = critical_value_z * control_std + control_mean\n",
    "        cv_treatment = critical_value_z * treatment_std + treatment_mean\n",
    "        plt.axvline(x=cv_control, color='grey', linestyle='--')\n",
    "        plt.text(cv_control + x_axis_ann_gap, 0, f\"{cv_control:.1f}\", va='center', ha=\"left\", bbox=dict(facecolor=\"w\",alpha=0.2, edgecolor= 'None'))\n",
    "    if p_value < alpha:\n",
    "        print(f\"Reject null hypothesis (z-score: {z_score:.20f}, p-value: {p_value:.20f})\")\n",
    "    else:\n",
    "        print(f\"Fail to reject null hypothesis (z-score: {z_score:.20f}, p-value: {p_value:.20f})\")\n",
    "    \n",
    "    plt.plot(x, control_pdf, label='Control', color='red')\n",
    "    plt.fill_between(x, control_pdf, treatment_pdf, where=(control_pdf > treatment_pdf), facecolor='red', alpha=0.3)\n",
    "\n",
    "    plt.plot(x, treatment_pdf, label='Treatment', color='green')\n",
    "    plt.fill_between(x, control_pdf, treatment_pdf, where=(treatment_pdf > control_pdf), facecolor='green', alpha=0.3)\n",
    "\n",
    "    \n",
    "    plt.axvline(x=control_mean, color='red', linestyle='--')\n",
    "    plt.text(control_mean + x_axis_ann_gap, max(control_pdf), f\"x̅ c:{control_mean:.1f}\", va='center', ha=\"left\", bbox=dict(facecolor=\"w\",alpha=0.2, edgecolor= 'None'))\n",
    "    plt.scatter(control_mean, max(control_pdf), color='red')\n",
    "    \n",
    "    plt.axvline(x=treatment_mean, color='green', linestyle='--')\n",
    "    plt.text(treatment_mean + x_axis_ann_gap, max(treatment_pdf), f\"x̅ t:{treatment_mean:.1f}\", va='center', ha=\"left\", bbox=dict(facecolor=\"w\",alpha=0.2, edgecolor= 'None'))\n",
    "    plt.scatter(treatment_mean, max(treatment_pdf), color='green')\n",
    "    \n",
    "    plt.text(max(max(treatment), max(control),cv_control) + x_axis_ann_gap, p_value, f\"p-value: {p_value:.2f}\\n(z-score: {z_score:.1f} )\", va='center', ha=\"left\", bbox=dict(facecolor=\"w\",alpha=0.2, edgecolor= 'None'))\n",
    "    plt.scatter(max(max(treatment),max(control),cv_control), p_value, color='blue')\n",
    "    plt.legend()\n",
    "    plt.show()"
   ]
  },
  {
   "cell_type": "code",
   "execution_count": 78,
   "metadata": {},
   "outputs": [],
   "source": [
    "def z_test(control, treatment, alpha, number_of_tails):\n",
    "    control_mean = np.mean(control)\n",
    "    control_std = np.std(control)\n",
    "    control_size = len(control)\n",
    "\n",
    "    treatment_mean = np.mean(treatment)\n",
    "    treatment_std = np.std(treatment)\n",
    "    treatment_size = len(treatment)\n",
    "\n",
    "    pooled_var = (np.var(control) + np.var(treatment)) / 2\n",
    "    pooled_se = np.sqrt(pooled_var * (1 / control_size + 1 / treatment_size))\n",
    "    z_score = (treatment_mean - control_mean) / pooled_se\n",
    "    p_value = stats.norm.sf(abs(z_score))\n",
    "\n",
    "    if number_of_tails == 2:\n",
    "        p_value *= 2\n",
    "\n",
    "    if p_value < alpha:\n",
    "        print(f\"Reject null hypothesis (z-score: {z_score:.20f}, p-value: {p_value:.20f})\")\n",
    "    else:\n",
    "        print(f\"Fail to reject null hypothesis (z-score: {z_score:.20f}, p-value: {p_value:.20f})\")"
   ]
  },
  {
   "cell_type": "code",
   "execution_count": 79,
   "metadata": {},
   "outputs": [],
   "source": [
    "def t_test(control, treatment, alpha, number_of_tails):\n",
    "    t_statistic, p_value = stats.ttest_ind(control, treatment)\n",
    "\n",
    "    if number_of_tails == 1:\n",
    "        p_value /= 2\n",
    "\n",
    "    if p_value < alpha:\n",
    "        print(f\"Reject null hypothesis (t-statistic: {t_statistic:.20f}, p-value: {p_value:.20f})\")\n",
    "    else:\n",
    "        print(f\"Fail to reject null hypothesis (t-statistic: {t_statistic:.20f}, p-value: {p_value:.20f})\")"
   ]
  },
  {
   "cell_type": "code",
   "execution_count": 80,
   "metadata": {},
   "outputs": [
    {
     "name": "stdout",
     "output_type": "stream",
     "text": [
      "Reject null hypothesis (z-score: 6.73487494109743689563, p-value: 0.00000000001640709903)\n"
     ]
    },
    {
     "data": {
      "image/png": "[encoded data removed]",
      "text/plain": [
       "<Figure size 640x480 with 1 Axes>"
      ]
     },
     "metadata": {},
     "output_type": "display_data"
    }
   ],
   "source": [
    "control = df_abset['control_conversions']\n",
    "treatment = df_abset['treatment_conversions']\n",
    "alpha = 0.05\n",
    "number_of_tails = 2\n",
    "ab_test(control, treatment, alpha, number_of_tails)"
   ]
  },
  {
   "cell_type": "code",
   "execution_count": 81,
   "metadata": {},
   "outputs": [
    {
     "name": "stdout",
     "output_type": "stream",
     "text": [
      "Reject null hypothesis (t-statistic: -6.71468036807727841619, p-value: 0.00000000008180417637)\n"
     ]
    }
   ],
   "source": [
    "t_test(control, treatment, alpha, number_of_tails)"
   ]
  },
  {
   "cell_type": "code",
   "execution_count": 82,
   "metadata": {},
   "outputs": [
    {
     "name": "stdout",
     "output_type": "stream",
     "text": [
      "Reject null hypothesis (z-score: 6.73487494109743689563, p-value: 0.00000000001640709903)\n"
     ]
    }
   ],
   "source": [
    "z_test(control, treatment, alpha, number_of_tails)"
   ]
  },
  {
   "attachments": {},
   "cell_type": "markdown",
   "metadata": {},
   "source": [
    "## https://www.kaggle.com/code/mehmeteryilmazz/marketing-ab-testing"
   ]
  },
  {
   "cell_type": "code",
   "execution_count": 83,
   "metadata": {},
   "outputs": [],
   "source": [
    "from statsmodels.stats.proportion import proportions_ztest"
   ]
  },
  {
   "attachments": {},
   "cell_type": "markdown",
   "metadata": {},
   "source": [
    "#### Check underlying data with a defined function"
   ]
  },
  {
   "cell_type": "code",
   "execution_count": 84,
   "metadata": {},
   "outputs": [
    {
     "name": "stdout",
     "output_type": "stream",
     "text": [
      "################### Shape ####################\n",
      "(588101, 9)\n",
      "#################### Info #####################\n",
      "<class 'pandas.core.frame.DataFrame'>\n",
      "Int64Index: 588101 entries, 0 to 588100\n",
      "Data columns (total 9 columns):\n",
      " #   Column            Non-Null Count   Dtype \n",
      "---  ------            --------------   ----- \n",
      " 0   user_id           588101 non-null  int64 \n",
      " 1   test_group        588101 non-null  object\n",
      " 2   converted         588101 non-null  int32 \n",
      " 3   total_ads         588101 non-null  int64 \n",
      " 4   most_ads_day      588101 non-null  object\n",
      " 5   most_ads_hour     588101 non-null  int64 \n",
      " 6   week_day_number   588101 non-null  int64 \n",
      " 7   most_ads_hour_hr  588101 non-null  object\n",
      " 8   time_block        588101 non-null  object\n",
      "dtypes: int32(1), int64(4), object(4)\n",
      "memory usage: 42.6+ MB\n",
      "None\n",
      "################### Nunique ###################\n"
     ]
    },
    {
     "name": "stdout",
     "output_type": "stream",
     "text": [
      "user_id             588101\n",
      "test_group               2\n",
      "converted                2\n",
      "total_ads              807\n",
      "most_ads_day             7\n",
      "most_ads_hour           24\n",
      "week_day_number          7\n",
      "most_ads_hour_hr        24\n",
      "time_block             168\n",
      "dtype: int64\n",
      "##################### NA #####################\n",
      "user_id             0\n",
      "test_group          0\n",
      "converted           0\n",
      "total_ads           0\n",
      "most_ads_day        0\n",
      "most_ads_hour       0\n",
      "week_day_number     0\n",
      "most_ads_hour_hr    0\n",
      "time_block          0\n",
      "dtype: int64\n",
      "################## Quantiles #################\n",
      "                    count          mean            std       min        0%  \\\n",
      "user_id          588101.0  1.310692e+06  202225.983128  900000.0  900000.0   \n",
      "converted        588101.0  2.523886e-02       0.156850       0.0       0.0   \n",
      "total_ads        588101.0  2.482088e+01      43.715181       1.0       1.0   \n",
      "most_ads_hour    588101.0  1.446906e+01       4.834634       0.0       0.0   \n",
      "week_day_number  588101.0  3.025533e+00       2.004019       0.0       0.0   \n",
      "\n",
      "                        5%        50%        95%        99%       100%  \\\n",
      "user_id          1006830.0  1313725.0  1620397.0  1647639.0  1654483.0   \n",
      "converted              0.0        0.0        0.0        1.0        1.0   \n",
      "total_ads              1.0       13.0       88.0      202.0     2065.0   \n",
      "most_ads_hour          8.0       14.0       22.0       23.0       23.0   \n",
      "week_day_number        0.0        3.0        6.0        6.0        6.0   \n",
      "\n",
      "                       max  \n",
      "user_id          1654483.0  \n",
      "converted              1.0  \n",
      "total_ads           2065.0  \n",
      "most_ads_hour         23.0  \n",
      "week_day_number        6.0  \n",
      "#################### Head ####################\n",
      "   user_id test_group  converted  total_ads most_ads_day  most_ads_hour  \\\n",
      "0  1460012         ad          0          2    Wednesday              0   \n",
      "1  1007070         ad          0         26      Tuesday              0   \n",
      "2  1345129         ad          1         16     Saturday              0   \n",
      "3  1449048         ad          0          1       Sunday              0   \n",
      "4  1016601         ad          0         39       Friday              0   \n",
      "5  1309281         ad          0         40     Saturday              0   \n",
      "6  1258456         ad          0         14    Wednesday              0   \n",
      "\n",
      "   week_day_number most_ads_hour_hr            time_block  \n",
      "0                2            12 AM  0200: Wednesday 00hr  \n",
      "1                1            12 AM    0100: Tuesday 00hr  \n",
      "2                5            12 AM   0500: Saturday 00hr  \n",
      "3                6            12 AM     0600: Sunday 00hr  \n",
      "4                4            12 AM     0400: Friday 00hr  \n",
      "5                5            12 AM   0500: Saturday 00hr  \n",
      "6                2            12 AM  0200: Wednesday 00hr  \n"
     ]
    }
   ],
   "source": [
    "def check_df(dataframe, head=7):\n",
    "    print(\"################### Shape ####################\")\n",
    "    print(dataframe.shape)\n",
    "    print(\"#################### Info #####################\")\n",
    "    print(dataframe.info())\n",
    "    print(\"################### Nunique ###################\")\n",
    "    print(dataframe.nunique())\n",
    "    print(\"##################### NA #####################\")\n",
    "    print(dataframe.isnull().sum())\n",
    "    print(\"################## Quantiles #################\")\n",
    "    print(dataframe.describe([0, 0.05, 0.50, 0.95, 0.99, 1]).T)\n",
    "    print(\"#################### Head ####################\")\n",
    "    print(dataframe.head(head))\n",
    "\n",
    "check_df(df_mkt)"
   ]
  },
  {
   "cell_type": "code",
   "execution_count": 85,
   "metadata": {},
   "outputs": [
    {
     "name": "stdout",
     "output_type": "stream",
     "text": [
      "user_id: 588101\n",
      "test_group: 2\n",
      "converted: 2\n",
      "total_ads: 807\n",
      "most_ads_day: 7\n",
      "most_ads_hour: 24\n",
      "week_day_number: 7\n",
      "most_ads_hour_hr: 24\n",
      "time_block: 168\n"
     ]
    }
   ],
   "source": [
    "# Practice loop to count number unique values. confirmed by above\n",
    "col_df_mkt = df_mkt.columns.tolist()\n",
    "for x in col_df_mkt:\n",
    "    unique_values = df_mkt.groupby(x)[x].nunique().sum()\n",
    "    print(f\"{x}: {unique_values}\")"
   ]
  },
  {
   "attachments": {},
   "cell_type": "markdown",
   "metadata": {},
   "source": [
    "#### Quick scan"
   ]
  },
  {
   "cell_type": "code",
   "execution_count": 86,
   "metadata": {},
   "outputs": [
    {
     "name": "stdout",
     "output_type": "stream",
     "text": [
      "user_id: 588101\n",
      "test_group: 2\n",
      "converted: 2\n",
      "total_ads: 807\n",
      "most_ads_day: 7\n",
      "most_ads_hour: 24\n",
      "week_day_number: 7\n",
      "most_ads_hour_hr: 24\n",
      "time_block: 168\n"
     ]
    }
   ],
   "source": [
    "# Practice loop to count number unique values. confirmed by above\n",
    "col_df_mkt = df_mkt.columns.tolist()\n",
    "for x in col_df_mkt:\n",
    "    unique_values = df_mkt.groupby(x)[x].nunique().sum()\n",
    "    print(f\"{x}: {unique_values}\")"
   ]
  },
  {
   "cell_type": "code",
   "execution_count": 87,
   "metadata": {},
   "outputs": [
    {
     "data": {
      "text/html": [
       "<div>\n",
       "<style scoped>\n",
       "    .dataframe tbody tr th:only-of-type {\n",
       "        vertical-align: middle;\n",
       "    }\n",
       "\n",
       "    .dataframe tbody tr th {\n",
       "        vertical-align: top;\n",
       "    }\n",
       "\n",
       "    .dataframe thead th {\n",
       "        text-align: right;\n",
       "    }\n",
       "</style>\n",
       "<table border=\"1\" class=\"dataframe\">\n",
       "  <thead>\n",
       "    <tr style=\"text-align: right;\">\n",
       "      <th></th>\n",
       "      <th>user_id</th>\n",
       "      <th>test_group</th>\n",
       "      <th>converted</th>\n",
       "      <th>total_ads</th>\n",
       "      <th>most_ads_day</th>\n",
       "      <th>most_ads_hour</th>\n",
       "      <th>week_day_number</th>\n",
       "      <th>most_ads_hour_hr</th>\n",
       "      <th>time_block</th>\n",
       "    </tr>\n",
       "  </thead>\n",
       "  <tbody>\n",
       "    <tr>\n",
       "      <th>0</th>\n",
       "      <td>1460012</td>\n",
       "      <td>ad</td>\n",
       "      <td>0</td>\n",
       "      <td>2</td>\n",
       "      <td>Wednesday</td>\n",
       "      <td>0</td>\n",
       "      <td>2</td>\n",
       "      <td>12 AM</td>\n",
       "      <td>0200: Wednesday 00hr</td>\n",
       "    </tr>\n",
       "    <tr>\n",
       "      <th>1</th>\n",
       "      <td>1007070</td>\n",
       "      <td>ad</td>\n",
       "      <td>0</td>\n",
       "      <td>26</td>\n",
       "      <td>Tuesday</td>\n",
       "      <td>0</td>\n",
       "      <td>1</td>\n",
       "      <td>12 AM</td>\n",
       "      <td>0100: Tuesday 00hr</td>\n",
       "    </tr>\n",
       "    <tr>\n",
       "      <th>2</th>\n",
       "      <td>1345129</td>\n",
       "      <td>ad</td>\n",
       "      <td>1</td>\n",
       "      <td>16</td>\n",
       "      <td>Saturday</td>\n",
       "      <td>0</td>\n",
       "      <td>5</td>\n",
       "      <td>12 AM</td>\n",
       "      <td>0500: Saturday 00hr</td>\n",
       "    </tr>\n",
       "    <tr>\n",
       "      <th>3</th>\n",
       "      <td>1449048</td>\n",
       "      <td>ad</td>\n",
       "      <td>0</td>\n",
       "      <td>1</td>\n",
       "      <td>Sunday</td>\n",
       "      <td>0</td>\n",
       "      <td>6</td>\n",
       "      <td>12 AM</td>\n",
       "      <td>0600: Sunday 00hr</td>\n",
       "    </tr>\n",
       "    <tr>\n",
       "      <th>4</th>\n",
       "      <td>1016601</td>\n",
       "      <td>ad</td>\n",
       "      <td>0</td>\n",
       "      <td>39</td>\n",
       "      <td>Friday</td>\n",
       "      <td>0</td>\n",
       "      <td>4</td>\n",
       "      <td>12 AM</td>\n",
       "      <td>0400: Friday 00hr</td>\n",
       "    </tr>\n",
       "  </tbody>\n",
       "</table>\n",
       "</div>"
      ],
      "text/plain": [
       "   user_id test_group  converted  total_ads most_ads_day  most_ads_hour  \\\n",
       "0  1460012         ad          0          2    Wednesday              0   \n",
       "1  1007070         ad          0         26      Tuesday              0   \n",
       "2  1345129         ad          1         16     Saturday              0   \n",
       "3  1449048         ad          0          1       Sunday              0   \n",
       "4  1016601         ad          0         39       Friday              0   \n",
       "\n",
       "   week_day_number most_ads_hour_hr            time_block  \n",
       "0                2            12 AM  0200: Wednesday 00hr  \n",
       "1                1            12 AM    0100: Tuesday 00hr  \n",
       "2                5            12 AM   0500: Saturday 00hr  \n",
       "3                6            12 AM     0600: Sunday 00hr  \n",
       "4                4            12 AM     0400: Friday 00hr  "
      ]
     },
     "execution_count": 87,
     "metadata": {},
     "output_type": "execute_result"
    }
   ],
   "source": [
    "df_mkt.head()"
   ]
  },
  {
   "attachments": {},
   "cell_type": "markdown",
   "metadata": {},
   "source": [
    "#### Average conversion rates"
   ]
  },
  {
   "cell_type": "code",
   "execution_count": 88,
   "metadata": {},
   "outputs": [
    {
     "data": {
      "text/plain": [
       "test_group\n",
       "ad     0.025547\n",
       "psa    0.017854\n",
       "Name: converted, dtype: float64"
      ]
     },
     "execution_count": 88,
     "metadata": {},
     "output_type": "execute_result"
    }
   ],
   "source": [
    "df_mkt.groupby('test_group')['converted'].mean()"
   ]
  },
  {
   "cell_type": "code",
   "execution_count": 89,
   "metadata": {},
   "outputs": [
    {
     "name": "stdout",
     "output_type": "stream",
     "text": [
      "7.3700781265454145, 1.7052807161559727e-13\n"
     ]
    }
   ],
   "source": [
    "# We are summing the purchase values separately for those who saw the ad and those who didn't see the ad.\n",
    "# We assign these to new variables.\n",
    "\n",
    "ad_converted_count = df_mkt.loc[df_mkt['test_group'] == 'ad', 'converted'].sum()\n",
    "psa_converted_count = df_mkt.loc[df_mkt['test_group'] == 'psa', 'converted'].sum()\n",
    "\n",
    "\n",
    "# We are calculating the p-value to determine the effect of seeing, \n",
    "# the advertisement on the purchase for those who saw it versus those who didn't see it.\n",
    "\n",
    "test_stat, pvalue = proportions_ztest(count=[ad_converted_count, psa_converted_count],\n",
    "                                      nobs=[df_mkt.loc[df_mkt['test_group'] == 'ad' , 'converted'].shape[0],\n",
    "                                            df_mkt.loc[df_mkt['test_group'] == 'psa', 'converted'].shape[0]])\n",
    "\n",
    "# count = success count\n",
    "# nobs = the total number of observations\n",
    "# Thus, we obtain the ratio.\n",
    "\n",
    "\n",
    "print(f\"{test_stat}, {pvalue}\")"
   ]
  },
  {
   "attachments": {},
   "cell_type": "markdown",
   "metadata": {},
   "source": [
    "## To replicate above with:\n",
    "##### ab_test(), t_test(), z_test()"
   ]
  },
  {
   "cell_type": "code",
   "execution_count": 90,
   "metadata": {},
   "outputs": [
    {
     "name": "stdout",
     "output_type": "stream",
     "text": [
      "<class 'pandas.core.series.Series'>\n",
      "Int64Index: 564577 entries, 0 to 588100\n",
      "Series name: converted\n",
      "Non-Null Count   Dtype\n",
      "--------------   -----\n",
      "564577 non-null  int32\n",
      "dtypes: int32(1)\n",
      "memory usage: 6.5 MB\n"
     ]
    }
   ],
   "source": [
    "df_ad =  (df_mkt[df_mkt['test_group'] == 'ad'])['converted']\n",
    "df_ad.info()"
   ]
  },
  {
   "cell_type": "code",
   "execution_count": 91,
   "metadata": {},
   "outputs": [
    {
     "name": "stdout",
     "output_type": "stream",
     "text": [
      "<class 'pandas.core.series.Series'>\n",
      "Int64Index: 23524 entries, 37 to 588093\n",
      "Series name: converted\n",
      "Non-Null Count  Dtype\n",
      "--------------  -----\n",
      "23524 non-null  int32\n",
      "dtypes: int32(1)\n",
      "memory usage: 275.7 KB\n"
     ]
    }
   ],
   "source": [
    "df_psa =  (df_mkt[df_mkt['test_group'] == 'psa'])['converted']\n",
    "df_psa.info()"
   ]
  },
  {
   "cell_type": "code",
   "execution_count": 92,
   "metadata": {},
   "outputs": [
    {
     "name": "stdout",
     "output_type": "stream",
     "text": [
      "Reject null hypothesis (z-score: 7.93666950889004940706, p-value: 0.00000000000000207682)\n"
     ]
    },
    {
     "name": "stderr",
     "output_type": "stream",
     "text": [
      "posx and posy should be finite values\n",
      "posx and posy should be finite values\n",
      "posx and posy should be finite values\n",
      "posx and posy should be finite values\n",
      "posx and posy should be finite values\n",
      "posx and posy should be finite values\n"
     ]
    },
    {
     "data": {
      "image/png": "[encoded data removed]",
      "text/plain": [
       "<Figure size 640x480 with 1 Axes>"
      ]
     },
     "metadata": {},
     "output_type": "display_data"
    }
   ],
   "source": [
    "ab_test(df_psa, df_ad, alpha, number_of_tails)"
   ]
  },
  {
   "cell_type": "code",
   "execution_count": 93,
   "metadata": {},
   "outputs": [
    {
     "name": "stdout",
     "output_type": "stream",
     "text": [
      "Reject null hypothesis (t-statistic: -7.37040597428565824600, p-value: 0.00000000000017033053)\n"
     ]
    }
   ],
   "source": [
    "t_test(df_psa, df_ad, alpha, number_of_tails)"
   ]
  },
  {
   "cell_type": "code",
   "execution_count": 94,
   "metadata": {},
   "outputs": [
    {
     "name": "stdout",
     "output_type": "stream",
     "text": [
      "Reject null hypothesis (z-score: 7.93666950889004940706, p-value: 0.00000000000000207682)\n"
     ]
    }
   ],
   "source": [
    "z_test(df_psa, df_ad, alpha, number_of_tails)"
   ]
  },
  {
   "attachments": {},
   "cell_type": "markdown",
   "metadata": {},
   "source": [
    "## https://www.kaggle.com/code/pratul007/a-b-testing-best-solution"
   ]
  },
  {
   "attachments": {},
   "cell_type": "markdown",
   "metadata": {},
   "source": []
  },
  {
   "cell_type": "code",
   "execution_count": 95,
   "metadata": {},
   "outputs": [
    {
     "name": "stdout",
     "output_type": "stream",
     "text": [
      "   user_id test_group  converted  total_ads most_ads_day  most_ads_hour  \\\n",
      "0  1460012         ad          0          2    Wednesday              0   \n",
      "1  1007070         ad          0         26      Tuesday              0   \n",
      "2  1345129         ad          1         16     Saturday              0   \n",
      "3  1449048         ad          0          1       Sunday              0   \n",
      "4  1016601         ad          0         39       Friday              0   \n",
      "\n",
      "   week_day_number most_ads_hour_hr            time_block  \n",
      "0                2            12 AM  0200: Wednesday 00hr  \n",
      "1                1            12 AM    0100: Tuesday 00hr  \n",
      "2                5            12 AM   0500: Saturday 00hr  \n",
      "3                6            12 AM     0600: Sunday 00hr  \n",
      "4                4            12 AM     0400: Friday 00hr  \n",
      "<class 'pandas.core.frame.DataFrame'>\n",
      "Int64Index: 588101 entries, 0 to 588100\n",
      "Data columns (total 9 columns):\n",
      " #   Column            Non-Null Count   Dtype \n",
      "---  ------            --------------   ----- \n",
      " 0   user_id           588101 non-null  int64 \n",
      " 1   test_group        588101 non-null  object\n",
      " 2   converted         588101 non-null  int32 \n",
      " 3   total_ads         588101 non-null  int64 \n",
      " 4   most_ads_day      588101 non-null  object\n",
      " 5   most_ads_hour     588101 non-null  int64 \n",
      " 6   week_day_number   588101 non-null  int64 \n",
      " 7   most_ads_hour_hr  588101 non-null  object\n",
      " 8   time_block        588101 non-null  object\n",
      "dtypes: int32(1), int64(4), object(4)\n",
      "memory usage: 42.6+ MB\n"
     ]
    },
    {
     "data": {
      "text/plain": [
       "user_id             0\n",
       "test_group          0\n",
       "converted           0\n",
       "total_ads           0\n",
       "most_ads_day        0\n",
       "most_ads_hour       0\n",
       "week_day_number     0\n",
       "most_ads_hour_hr    0\n",
       "time_block          0\n",
       "dtype: int64"
      ]
     },
     "execution_count": 95,
     "metadata": {},
     "output_type": "execute_result"
    }
   ],
   "source": [
    "print(df_mkt.head()) # View the first few rows of the dataset\n",
    "df_mkt.info() # Get information about the data types and number of non-null values in each column\n",
    "df_mkt.describe() # Get summary statistics for numeric columns\n",
    "df_mkt.isnull().sum() # Check for missing values"
   ]
  },
  {
   "cell_type": "code",
   "execution_count": 96,
   "metadata": {},
   "outputs": [
    {
     "data": {
      "image/png": "[encoded data removed]",
      "text/plain": [
       "<Figure size 640x480 with 1 Axes>"
      ]
     },
     "metadata": {},
     "output_type": "display_data"
    }
   ],
   "source": [
    "ax = sns.countplot(x='converted', hue='test_group', data=df_mkt)\n",
    "\n",
    "# Get the counts for each bar\n",
    "counts = df_mkt.groupby(['test_group', 'converted']).size().reset_index(name='count')\n",
    "\n",
    "# Add text to each bar\n",
    "for i, bar in enumerate(ax.containers):\n",
    "    for j, count in enumerate(bar):\n",
    "        height = count.get_height()\n",
    "        ax.annotate(counts.iloc[i*2+j]['count'], xy=(count.get_x() + count.get_width() / 2, height),\n",
    "                    xytext=(0, 3), textcoords=\"offset points\", ha=\"center\", va=\"bottom\")\n"
   ]
  },
  {
   "cell_type": "code",
   "execution_count": 97,
   "metadata": {},
   "outputs": [
    {
     "name": "stdout",
     "output_type": "stream",
     "text": [
      "Ttest_indResult(statistic=7.370405974285658, pvalue=1.703305262783145e-13)\n"
     ]
    }
   ],
   "source": [
    "ttest_results = ttest_ind(df_mkt[df_mkt['test_group'] == 'ad']['converted'], df_mkt[df_mkt['test_group'] == 'psa']['converted'])\n",
    "print(ttest_results)"
   ]
  },
  {
   "cell_type": "code",
   "execution_count": 98,
   "metadata": {},
   "outputs": [
    {
     "name": "stdout",
     "output_type": "stream",
     "text": [
      "test_group\n",
      "ad     0.025547\n",
      "psa    0.017854\n",
      "Name: converted, dtype: float64\n"
     ]
    }
   ],
   "source": [
    "conversion_rates = df_mkt.groupby('test_group')['converted'].mean()\n",
    "print(conversion_rates)"
   ]
  },
  {
   "attachments": {},
   "cell_type": "markdown",
   "metadata": {},
   "source": [
    "###### The statistic value of 7.37 represents the t-statistic for the test. This value indicates that there is a significant difference between the means of the two groups being compared.\n",
    "###### The pvalue value of 1.70e-13 represents the probability of observing a t-statistic at least as extreme as the observed value, assuming that there is no difference between the means of the two groups being compared (i.e., assuming the null hypothesis). This value is very small, which suggests strong evidence against the null hypothesis and in favor of the alternative hypothesis (i.e., that there is a significant difference between the means of the two groups).\n",
    "###### Taken together, these results suggest that there is a significant difference between the means of the two groups being compared, and that this difference is unlikely to have occurred by chance alone.\n",
    "##### Based on these conversion rates, we can interpret that the ad group had a higher conversion rate (0.025547) compared to the PSA group (0.017854). This suggests that the ads were effective in driving conversions and that the ad campaign was successful."
   ]
  },
  {
   "cell_type": "code",
   "execution_count": 99,
   "metadata": {},
   "outputs": [
    {
     "data": {
      "image/png": "[encoded data removed]",
      "text/plain": [
       "<Figure size 1600x400 with 2 Axes>"
      ]
     },
     "metadata": {},
     "output_type": "display_data"
    }
   ],
   "source": [
    "fig, ax = plt.subplots(ncols=2, figsize=(16, 4))\n",
    "\n",
    "sns.barplot(x='total_ads', y='converted', data=df_mkt[df_mkt['test_group'] == 'ad'], ax=ax[0])\n",
    "ax[0].set(title=\"Ad Group\", xlabel=\"Total Ads\", ylabel=\"Conversion Rate\")\n",
    "\n",
    "sns.barplot(x='total_ads', y='converted', data=df_mkt[df_mkt['test_group'] == 'psa'], ax=ax[1])\n",
    "ax[1].set(title=\"PSA Group\", xlabel=\"Total Ads\", ylabel=\"Conversion Rate\")\n",
    "\n",
    "plt.tight_layout()\n",
    "plt.show()"
   ]
  },
  {
   "cell_type": "code",
   "execution_count": 100,
   "metadata": {},
   "outputs": [
    {
     "data": {
      "image/png": "[encoded data removed]",
      "text/plain": [
       "<Figure size 640x480 with 1 Axes>"
      ]
     },
     "metadata": {},
     "output_type": "display_data"
    }
   ],
   "source": [
    "sns.violinplot(x='converted', y='total_ads', hue='test_group', data=df_mkt)\n",
    "plt.title(\"Distribution of Total Ads by Converted and Test Group\")\n",
    "plt.xlabel('converted')\n",
    "plt.ylabel('total_ads')\n",
    "plt.show()"
   ]
  },
  {
   "cell_type": "code",
   "execution_count": 101,
   "metadata": {},
   "outputs": [
    {
     "data": {
      "text/plain": [
       "<Axes: xlabel='most_ads_day', ylabel='converted'>"
      ]
     },
     "execution_count": 101,
     "metadata": {},
     "output_type": "execute_result"
    },
    {
     "data": {
      "image/png": "[encoded data removed]",
      "text/plain": [
       "<Figure size 640x480 with 1 Axes>"
      ]
     },
     "metadata": {},
     "output_type": "display_data"
    }
   ],
   "source": [
    "sns.barplot(x='most_ads_day', y='converted', hue='test_group', data=df_mkt, order=[\"Monday\", \"Tuesday\", \"Wednesday\", \"Thursday\", \"Friday\", \"Saturday\", \"Sunday\"])\n",
    "sns.barplot(x='most_ads_day', y='converted', hue='test_group', data=df_mkt)"
   ]
  },
  {
   "cell_type": "code",
   "execution_count": 102,
   "metadata": {},
   "outputs": [
    {
     "name": "stdout",
     "output_type": "stream",
     "text": [
      "The hour of the day with the highest conversion rate was: 16\n"
     ]
    }
   ],
   "source": [
    "# Group the data by most ads hour, and calculate the mean of the converted column\n",
    "conversion_by_hour = df_mkt.groupby('most_ads_hour')['converted'].mean()\n",
    "\n",
    "# Find the hour with the highest conversion rate\n",
    "max_conversion_hour = conversion_by_hour.idxmax()\n",
    "\n",
    "# Print the result\n",
    "print(\"The hour of the day with the highest conversion rate was:\", max_conversion_hour)"
   ]
  },
  {
   "cell_type": "code",
   "execution_count": 103,
   "metadata": {},
   "outputs": [
    {
     "name": "stdout",
     "output_type": "stream",
     "text": [
      "test_group          ad       psa\n",
      "most_ads_day                    \n",
      "Monday        0.033241  0.022559\n",
      "Tuesday       0.030440  0.014448\n",
      "Wednesday     0.025356  0.015759\n",
      "Sunday        0.024620  0.020595\n",
      "Friday        0.022465  0.016303\n",
      "Thursday      0.021637  0.020230\n",
      "Saturday      0.021307  0.013996\n"
     ]
    }
   ],
   "source": [
    "# Calculate conversion rate by day and test group\n",
    "conversion_by_day = df_mkt.groupby(['most_ads_day', 'test_group'])[\"converted\"].mean()\n",
    "\n",
    "# Reshape the data from long to wide format\n",
    "conversion_by_day = conversion_by_day.unstack(level=1)\n",
    "\n",
    "# Sort the values in descending order\n",
    "conversion_by_day = conversion_by_day.sort_values(by=[\"ad\", \"psa\"], ascending=False)\n",
    "\n",
    "# Print the result\n",
    "print(conversion_by_day)"
   ]
  },
  {
   "cell_type": "code",
   "execution_count": 104,
   "metadata": {},
   "outputs": [
    {
     "data": {
      "image/png": "[encoded data removed]",
      "text/plain": [
       "<Figure size 1000x600 with 1 Axes>"
      ]
     },
     "metadata": {},
     "output_type": "display_data"
    }
   ],
   "source": [
    "# Sort the values in descending order\n",
    "conversion_by_day = conversion_by_day.sort_values(by=['ad', 'psa'], ascending=False)\n",
    "\n",
    "# Create a stacked bar plot of the conversion rate by day and test group\n",
    "sns.set_style(\"whitegrid\")\n",
    "ax = conversion_by_day.plot(kind=\"bar\", stacked=True, figsize=(10, 6))\n",
    "plt.title(\"Conversion Rate by Test Group and Day of the Week\")\n",
    "plt.xlabel(\"Day of the Week\")\n",
    "plt.ylabel(\"Conversion Rate\")\n",
    "\n",
    "# Add value labels to each bar segment\n",
    "for i in range(conversion_by_day.shape[0]):\n",
    "    ad_value = conversion_by_day.iloc[i]['ad']\n",
    "    psa_value = conversion_by_day.iloc[i]['psa']\n",
    "    ax.text(i, ad_value / 2, f\"{ad_value:.2f}\", ha=\"center\", va=\"center\")\n",
    "    ax.text(i, ad_value + psa_value / 2, f\"{psa_value:.2f}\", ha=\"center\", va=\"center\")\n",
    "\n",
    "plt.legend(title='test_group', labels=[\"Ad\", \"PSA\"])\n",
    "plt.show()"
   ]
  },
  {
   "cell_type": "code",
   "execution_count": 119,
   "metadata": {},
   "outputs": [
    {
     "name": "stdout",
     "output_type": "stream",
     "text": [
      "Top 10 hours with less business:\n",
      "most_ads_hour\n",
      "2     0.007313\n",
      "3     0.010452\n",
      "1     0.012911\n",
      "4     0.015235\n",
      "7     0.018111\n",
      "0     0.018425\n",
      "9     0.019191\n",
      "8     0.019516\n",
      "5     0.020915\n",
      "10    0.021521\n",
      "Name: converted, dtype: float64\n"
     ]
    }
   ],
   "source": [
    "# Group the data by most ads hour and calculate the mean of the converted column\n",
    "conversion_by_hour = df_mkt.groupby('most_ads_hour')['converted'].mean()\n",
    "\n",
    "# Sort the values in ascending order and take the top 10\n",
    "top_10_less_business_hours = conversion_by_hour.sort_values().head(10)\n",
    "\n",
    "# Print the result\n",
    "print(\"Top 10 hours with less business:\")\n",
    "print(top_10_less_business_hours)"
   ]
  },
  {
   "cell_type": "code",
   "execution_count": 122,
   "metadata": {},
   "outputs": [],
   "source": [
    "hr_order=['12AM', '1AM', '2AM', '3AM', '4AM', '5AM', '6AM', '7AM', '8AM', '9AM', '10AM', '11AM', '12PM', '1PM', '2PM', '3PM', '4PM', '5PM', '6PM', '7PM', '8PM', '9PM', '10PM', '11PM']"
   ]
  },
  {
   "cell_type": "code",
   "execution_count": 123,
   "metadata": {},
   "outputs": [
    {
     "data": {
      "image/png": "[encoded data removed]",
      "text/plain": [
       "<Figure size 640x480 with 1 Axes>"
      ]
     },
     "metadata": {},
     "output_type": "display_data"
    }
   ],
   "source": [
    "# Filter the data to include only the \"ad\" group \n",
    "df_ad = df_mkt[df_mkt['test_group'] == 'ad'] \n",
    "# Group the data by hour of the day, and calculate the mean of the converted column \n",
    "conversion_by_hour = df_ad.groupby('most_ads_hour_hr')['converted'].mean().reset_index() \n",
    "# Create a bar plot of the conversion rate by hour of the day \n",
    "sns.barplot(data=conversion_by_hour, x=conversion_by_hour['most_ads_hour_hr'], y='converted', order=hr_order) \n",
    "plt.title(\"Conversion Rate by Hour of the Day (Ad Group)\") \n",
    "plt.xlabel(\"Hour of the Day (AM/PM)\") \n",
    "plt.ylabel(\"Conversion Rate\") \n",
    "# Rotate the x-axis labels by 45 degrees \n",
    "plt.xticks(rotation=90) \n",
    "plt.show()"
   ]
  },
  {
   "cell_type": "code",
   "execution_count": 124,
   "metadata": {},
   "outputs": [
    {
     "data": {
      "image/png": "[encoded data removed]",
      "text/plain": [
       "<Figure size 640x480 with 1 Axes>"
      ]
     },
     "metadata": {},
     "output_type": "display_data"
    }
   ],
   "source": [
    "# Filter the data to include only the \"psa\" group \n",
    "df_psa = df_mkt[df_mkt['test_group'] == 'psa'] \n",
    "# Group the data by hour of the day, and calculate the mean of the converted column \n",
    "conversion_by_hour_psa = df_psa.groupby('most_ads_hour_hr')['converted'].mean().reset_index() \n",
    "# Create a bar plot of the conversion rate by hour of the day \n",
    "sns.barplot(data=conversion_by_hour_psa, x=conversion_by_hour_psa['most_ads_hour_hr'], y='converted', order=hr_order) \n",
    "plt.title(\"Conversion Rate by Hour of the Day (PSA Group)\") \n",
    "plt.xlabel(\"Hour of the Day (AM/PM)\") \n",
    "plt.ylabel(\"Conversion Rate\") \n",
    "# Rotate the x-axis labels by 45 degrees \n",
    "plt.xticks(rotation=90) \n",
    "plt.show()"
   ]
  },
  {
   "cell_type": "code",
   "execution_count": 108,
   "metadata": {},
   "outputs": [
    {
     "data": {
      "text/plain": [
       "0         12 AM\n",
       "1         12 AM\n",
       "2         12 AM\n",
       "3         12 AM\n",
       "4         12 AM\n",
       "          ...  \n",
       "588096    11 PM\n",
       "588097    11 PM\n",
       "588098    11 PM\n",
       "588099    11 PM\n",
       "588100    11 PM\n",
       "Name: most_ads_hour_hr, Length: 588101, dtype: object"
      ]
     },
     "execution_count": 108,
     "metadata": {},
     "output_type": "execute_result"
    }
   ],
   "source": [
    "df_mkt['most_ads_hour_hr']"
   ]
  },
  {
   "cell_type": "code",
   "execution_count": null,
   "metadata": {},
   "outputs": [
    {
     "name": "stdout",
     "output_type": "stream",
     "text": [
      "The conversion rate for the ad group is 2.55%\n",
      "The conversion rate for the PSA group is 1.79%\n",
      "The t-test p-value is 0.0000\n"
     ]
    }
   ],
   "source": [
    "print(\"The conversion rate for the ad group is {:.2f}%\".format(conversion_rates['ad'] * 100))\n",
    "print(\"The conversion rate for the PSA group is {:.2f}%\".format(conversion_rates['psa'] * 100))\n",
    "print(\"The t-test p-value is {:.4f}\".format(ttest_results.pvalue))"
   ]
  }
 ],
 "metadata": {
  "kernelspec": {
   "display_name": "Python 3",
   "language": "python",
   "name": "python3"
  },
  "language_info": {
   "codemirror_mode": {
    "name": "ipython",
    "version": 3
   },
   "file_extension": ".py",
   "mimetype": "text/x-python",
   "name": "python",
   "nbconvert_exporter": "python",
   "pygments_lexer": "ipython3",
   "version": "3.10.10"
  },
  "orig_nbformat": 4
 },
 "nbformat": 4,
 "nbformat_minor": 2
}
